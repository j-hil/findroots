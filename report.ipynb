{
 "cells": [
  {
   "cell_type": "markdown",
   "metadata": {},
   "source": [
    "# Introduction \n",
    "\n",
    "We study iteration methods for the numerical solution of equations $F(x)$. We consider 2 simple methods; *binary search* and *fixed-point iteration*.\n",
    "\n",
    "The examples to be used are \n",
    "\n",
    "$$ F_1(x) := 2x - 3\\sin(x) + 5 $$\n",
    "$$ F_2(x) := x^3 - 8.5x^2 + 20x - 8 \\equiv (x - .5)(x - 4)^2 $$\n",
    "\n",
    "which are referred to as `func1` and `func2` respectively in the code."
   ]
  },
  {
   "cell_type": "code",
   "execution_count": null,
   "metadata": {},
   "outputs": [],
   "source": [
    "# global imports, variables and settings\n",
    "from findroots.functions import func1\n",
    "from findroots.plot import plot\n",
    "from findroots.binarysearch import findroot\n",
    "import numpy as np\n",
    "import pandas as pd\n",
    "\n",
    "rng = np.random.default_rng()"
   ]
  },
  {
   "cell_type": "markdown",
   "metadata": {},
   "source": [
    "### Using binary search to find the roots of $F_1$\n",
    "\n",
    "Note that since $|\\sin x | \\leq 1$, \n",
    "$$ x > -1 \\implies F_1(x) > 2(-1) - 3(1) + 5 = 0 $$\n",
    "$$ x < -4 \\implies F_1(x) < 2(-4) - 3(-1) + 5 = 0 $$\n",
    "and so any root of $F_1$ is on the interval $(-4, -1)$.\n",
    "\n",
    "Plotting $F_1$ on this interval using `findroots.plot.plot` shows there is only one such root."
   ]
  },
  {
   "cell_type": "code",
   "execution_count": null,
   "metadata": {},
   "outputs": [],
   "source": [
    "fig = plot(func1, on=(-4, -1), step=1e-5)"
   ]
  },
  {
   "cell_type": "markdown",
   "metadata": {},
   "source": [
    "We have written the function `findroots.binarysearch.findroot` to execute binary search on any interval to any given accuracy. The function works with double-precision floats so we expect the maximum feasible accuracy to be around `1e-15` - using this accuracy gives the following value for the root $x_*$ of $F_1$:"
   ]
  },
  {
   "cell_type": "code",
   "execution_count": null,
   "metadata": {},
   "outputs": [],
   "source": [
    "# NOTE: find root return roots_array, n_iters hence why `float(...[0])` required\n",
    "x_star = float(findroot(func1, on=(-4, 1), tol=1e-15)[0])\n",
    "x_star"
   ]
  },
  {
   "cell_type": "markdown",
   "metadata": {},
   "source": [
    "And so we take $x_* = -2.883236872558284$ as sufficiently accurate. We can use this value to test \n",
    "`findroots.binarysearch.findroot` for other input intervals and tolerances."
   ]
  },
  {
   "cell_type": "code",
   "execution_count": null,
   "metadata": {},
   "outputs": [],
   "source": [
    "intervals = -4 + 3 * rng.random((10, 2))\n",
    "approximate_roots, n_iters = findroot(func1, on=intervals, tol=5e-6)\n",
    "\n",
    "# NOTE: NaN & -1 outputs occur when the root was not in the given interval.\n",
    "pd.DataFrame(\n",
    "    {\n",
    "        \"interval used\": list(intervals.round(4)),\n",
    "        \"approximate root\": approximate_roots,\n",
    "        \"iterations required\": n_iters,\n",
    "        \"error in approximate\": abs(approximate_roots - x_star),\n",
    "    }\n",
    ")"
   ]
  },
  {
   "cell_type": "markdown",
   "metadata": {},
   "source": []
  }
 ],
 "metadata": {
  "kernelspec": {
   "display_name": "Python 3.11.0 ('.venv': venv)",
   "language": "python",
   "name": "python3"
  },
  "language_info": {
   "codemirror_mode": {
    "name": "ipython",
    "version": 3
   },
   "file_extension": ".py",
   "mimetype": "text/x-python",
   "name": "python",
   "nbconvert_exporter": "python",
   "pygments_lexer": "ipython3",
   "version": "3.10.2"
  },
  "orig_nbformat": 4,
  "vscode": {
   "interpreter": {
    "hash": "b0ee1d44e3ba6e0d109ad194c20d13fca6e8d119e35f1be3ca601509138c4ff8"
   }
  }
 },
 "nbformat": 4,
 "nbformat_minor": 2
}
